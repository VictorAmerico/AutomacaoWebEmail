{
 "cells": [
  {
   "cell_type": "code",
   "execution_count": 7,
   "id": "4f98ea20",
   "metadata": {},
   "outputs": [],
   "source": [
    "import pyautogui\n",
    "import pyperclip\n",
    "import pandas as pd\n",
    "import time"
   ]
  },
  {
   "cell_type": "code",
   "execution_count": 23,
   "id": "d1d17930",
   "metadata": {},
   "outputs": [],
   "source": [
    "pyautogui.hotkey('ctrl','t')\n",
    "time.sleep(1)\n",
    "pyperclip.copy('https://drive.google.com/drive/u/0/folders/1WZq1TFohlNwgrfEzn46ucscBovPQfuA-')\n",
    "pyautogui.hotkey('ctrl','v')\n",
    "pyautogui.press('enter')\n",
    "\n",
    "pyautogui.click(522,534)\n",
    "pyautogui.click(1661,206)\n",
    "pyautogui.click(1541,665)"
   ]
  },
  {
   "cell_type": "code",
   "execution_count": 96,
   "id": "ef43cab7",
   "metadata": {
    "scrolled": true
   },
   "outputs": [
    {
     "data": {
      "text/html": [
       "<div>\n",
       "<style scoped>\n",
       "    .dataframe tbody tr th:only-of-type {\n",
       "        vertical-align: middle;\n",
       "    }\n",
       "\n",
       "    .dataframe tbody tr th {\n",
       "        vertical-align: top;\n",
       "    }\n",
       "\n",
       "    .dataframe thead th {\n",
       "        text-align: right;\n",
       "    }\n",
       "</style>\n",
       "<table border=\"1\" class=\"dataframe\">\n",
       "  <thead>\n",
       "    <tr style=\"text-align: right;\">\n",
       "      <th></th>\n",
       "      <th>RECEITA BRUTA</th>\n",
       "      <th>Produto 1</th>\n",
       "      <th>Produto 2</th>\n",
       "      <th>Total</th>\n",
       "    </tr>\n",
       "  </thead>\n",
       "  <tbody>\n",
       "    <tr>\n",
       "      <th>0</th>\n",
       "      <td>SERVIÇOS</td>\n",
       "      <td>25000</td>\n",
       "      <td>35000</td>\n",
       "      <td>60000</td>\n",
       "    </tr>\n",
       "    <tr>\n",
       "      <th>1</th>\n",
       "      <td>VENDAS (Boleto)</td>\n",
       "      <td>40000</td>\n",
       "      <td>45000</td>\n",
       "      <td>85000</td>\n",
       "    </tr>\n",
       "    <tr>\n",
       "      <th>2</th>\n",
       "      <td>VENDAS (Cartão)</td>\n",
       "      <td>22000</td>\n",
       "      <td>15000</td>\n",
       "      <td>37000</td>\n",
       "    </tr>\n",
       "    <tr>\n",
       "      <th>3</th>\n",
       "      <td>VENDA (À vista)</td>\n",
       "      <td>35000</td>\n",
       "      <td>40000</td>\n",
       "      <td>75000</td>\n",
       "    </tr>\n",
       "    <tr>\n",
       "      <th>4</th>\n",
       "      <td>OUTROS</td>\n",
       "      <td>2000</td>\n",
       "      <td>500</td>\n",
       "      <td>2500</td>\n",
       "    </tr>\n",
       "  </tbody>\n",
       "</table>\n",
       "</div>"
      ],
      "text/plain": [
       "     RECEITA BRUTA  Produto 1  Produto 2  Total\n",
       "0         SERVIÇOS      25000      35000  60000\n",
       "1  VENDAS (Boleto)      40000      45000  85000\n",
       "2  VENDAS (Cartão)      22000      15000  37000\n",
       "3  VENDA (À vista)      35000      40000  75000\n",
       "4          OUTROS        2000        500   2500"
      ]
     },
     "execution_count": 96,
     "metadata": {},
     "output_type": "execute_result"
    }
   ],
   "source": [
    "#Link do excel na sua máquina\n",
    "\n",
    "df = pd.read_excel(r\"C:\\Users\\victo\\OneDrive\\Área de Trabalho\\Testeautoweb.xlsx\")\n",
    "\n",
    "\n",
    "\n",
    "df[\"Total\"] = df[\"Produto 1\"] + df[\"Produto 2\"]\n",
    "\n",
    "df.head()"
   ]
  },
  {
   "cell_type": "code",
   "execution_count": 101,
   "id": "47de66f8",
   "metadata": {},
   "outputs": [],
   "source": [
    "pyautogui.hotkey('ctrl','t')\n",
    "time.sleep(1)\n",
    "pyperclip.copy('https://mail.google.com/mail/u/0/#inbox')\n",
    "pyautogui.hotkey('ctrl','v')\n",
    "\n",
    "pyautogui.press('enter')\n",
    "\n",
    "pyautogui.click(192,219)\n",
    "#link do e-mail para enviar\n",
    "time.sleep(2)\n",
    "mail = \"victoramerico09@gmail.com\"\n",
    "pyperclip.copy(mail)\n",
    "pyautogui.hotkey('ctrl','v')\n",
    "pyautogui.press(\"tab\")\n",
    "\n",
    "pyautogui.write(\"Informativo acerca do faturamento do Produto 1, Produto 2, e do Total\")\n",
    "\n",
    "pyautogui.press(\"tab\")\n",
    "\n",
    "\n",
    "Msg = f'''\n",
    "        Bom dia, segue o informativo sobre o faturamento.\n",
    "        \n",
    "        Produto 1 = R$ {df[\"Produto 1\"].max()} reais\n",
    "        Produto 2 = R$ {df[\"Produto 2\"].max()} reais\n",
    "        Total = R$ {df[\"Total\"].max()} reais\n",
    "\n",
    "'''\n",
    "\n",
    "pyperclip.copy(Msg)\n",
    "pyautogui.hotkey('ctrl','v')\n",
    "\n",
    "pyautogui.hotkey('ctrl','enter')\n",
    "\n"
   ]
  },
  {
   "cell_type": "code",
   "execution_count": 100,
   "id": "bcb58d97",
   "metadata": {},
   "outputs": [
    {
     "data": {
      "text/plain": [
       "Point(x=0, y=612)"
      ]
     },
     "execution_count": 100,
     "metadata": {},
     "output_type": "execute_result"
    }
   ],
   "source": [
    "time.sleep(5)\n",
    "pyautogui.position()"
   ]
  },
  {
   "cell_type": "code",
   "execution_count": null,
   "id": "10b02dde",
   "metadata": {},
   "outputs": [],
   "source": []
  }
 ],
 "metadata": {
  "kernelspec": {
   "display_name": "Python 3",
   "language": "python",
   "name": "python3"
  },
  "language_info": {
   "codemirror_mode": {
    "name": "ipython",
    "version": 3
   },
   "file_extension": ".py",
   "mimetype": "text/x-python",
   "name": "python",
   "nbconvert_exporter": "python",
   "pygments_lexer": "ipython3",
   "version": "3.8.8"
  }
 },
 "nbformat": 4,
 "nbformat_minor": 5
}
